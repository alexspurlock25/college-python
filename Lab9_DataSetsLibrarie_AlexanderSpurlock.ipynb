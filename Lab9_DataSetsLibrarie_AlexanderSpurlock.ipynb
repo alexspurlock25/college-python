{
  "cells": [
    {
      "cell_type": "code",
      "execution_count": 15,
      "id": "ae49f504-a0bd-4c33-a80c-78148ce85b10",
      "metadata": {
        "trusted": true
      },
      "outputs": [],
      "source": [
        "# Alexander Spurlock\n",
        "# 11/03/2022\n",
        "# Lab 9: Data Sets\n",
        "\n",
        "import pandas\n",
        "\n",
        "df = pandas.read_csv('wic_ebt.csv', names=['countyname','effectivedate','foodcategory','food_subcategory','issuedqty','redeemedqty','redemption_rate'])"
      ]
    },
    {
      "cell_type": "code",
      "execution_count": 16,
      "id": "b28f99ad-1f4b-46d6-ad1f-e4009ea07c11",
      "metadata": {
        "trusted": true
      },
      "outputs": [
        {
          "data": {
            "text/plain": [
              "array([['021-08-01', 'JUICE - 64 OZ.', '100%JUICE - 64 OZ. CONT.', ...,\n",
              "        8137.0, 55.22, nan],\n",
              "       ['Cuyahoga', '2021-08-01', 'MILK - WHOLE', ..., 3.0, 1.0, 33.33],\n",
              "       ['Cuyahoga', '2021-08-01', 'MILK 2%, 1%, 1/2%, SKIM', ..., 2048.0,\n",
              "        745.0, 36.37],\n",
              "       ...,\n",
              "       ['Wyandot', '2021-10-01', 'MILK 2%, 1%, 1/2%, SKIM', ..., 4.0,\n",
              "        0.0, 0.0],\n",
              "       ['Wyandot', '2021-10-01', 'MILK 2%, 1%, 1/2%, SKIM', ..., 45.0,\n",
              "        32.5, 72.22],\n",
              "       ['Wyandot', '2021-10-01', 'YOGURT', ..., 608.0, 192.0, 31.57]],\n",
              "      dtype=object)"
            ]
          },
          "execution_count": 16,
          "metadata": {},
          "output_type": "execute_result"
        }
      ],
      "source": [
        "df.values"
      ]
    },
    {
      "cell_type": "code",
      "execution_count": 17,
      "id": "183e7d6b-667f-4405-984b-0b65e5c61f29",
      "metadata": {
        "trusted": true
      },
      "outputs": [
        {
          "name": "stdout",
          "output_type": "stream",
          "text": [
            "<class 'pandas.core.frame.DataFrame'>\n",
            "RangeIndex: 8250 entries, 0 to 8249\n",
            "Data columns (total 7 columns):\n",
            " #   Column            Non-Null Count  Dtype  \n",
            "---  ------            --------------  -----  \n",
            " 0   countyname        8250 non-null   object \n",
            " 1   effectivedate     8250 non-null   object \n",
            " 2   foodcategory      8250 non-null   object \n",
            " 3   food_subcategory  8250 non-null   object \n",
            " 4   issuedqty         8250 non-null   float64\n",
            " 5   redeemedqty       8250 non-null   float64\n",
            " 6   redemption_rate   8249 non-null   float64\n",
            "dtypes: float64(3), object(4)\n",
            "memory usage: 322.3+ KB\n"
          ]
        }
      ],
      "source": [
        "df.info()"
      ]
    },
    {
      "cell_type": "code",
      "execution_count": 18,
      "id": "95f44ac4-42c6-42ef-80fd-fc84eb8c538e",
      "metadata": {
        "trusted": true
      },
      "outputs": [
        {
          "data": {
            "text/html": [
              "<div>\n",
              "<style scoped>\n",
              "    .dataframe tbody tr th:only-of-type {\n",
              "        vertical-align: middle;\n",
              "    }\n",
              "\n",
              "    .dataframe tbody tr th {\n",
              "        vertical-align: top;\n",
              "    }\n",
              "\n",
              "    .dataframe thead th {\n",
              "        text-align: right;\n",
              "    }\n",
              "</style>\n",
              "<table border=\"1\" class=\"dataframe\">\n",
              "  <thead>\n",
              "    <tr style=\"text-align: right;\">\n",
              "      <th></th>\n",
              "      <th>countyname</th>\n",
              "      <th>effectivedate</th>\n",
              "      <th>foodcategory</th>\n",
              "      <th>food_subcategory</th>\n",
              "      <th>issuedqty</th>\n",
              "      <th>redeemedqty</th>\n",
              "      <th>redemption_rate</th>\n",
              "    </tr>\n",
              "  </thead>\n",
              "  <tbody>\n",
              "    <tr>\n",
              "      <th>0</th>\n",
              "      <td>021-08-01</td>\n",
              "      <td>JUICE - 64 OZ.</td>\n",
              "      <td>100%JUICE - 64 OZ. CONT.</td>\n",
              "      <td>14733</td>\n",
              "      <td>8137.0</td>\n",
              "      <td>55.22</td>\n",
              "      <td>NaN</td>\n",
              "    </tr>\n",
              "    <tr>\n",
              "      <th>1</th>\n",
              "      <td>Cuyahoga</td>\n",
              "      <td>2021-08-01</td>\n",
              "      <td>MILK - WHOLE</td>\n",
              "      <td>WHOLE DRY MILK 25.6 OZ</td>\n",
              "      <td>3.0</td>\n",
              "      <td>1.00</td>\n",
              "      <td>33.33</td>\n",
              "    </tr>\n",
              "    <tr>\n",
              "      <th>2</th>\n",
              "      <td>Cuyahoga</td>\n",
              "      <td>2021-08-01</td>\n",
              "      <td>MILK 2%, 1%, 1/2%, SKIM</td>\n",
              "      <td>LACTOSE FREE MILK LOWFAT/SKIM</td>\n",
              "      <td>2048.0</td>\n",
              "      <td>745.00</td>\n",
              "      <td>36.37</td>\n",
              "    </tr>\n",
              "    <tr>\n",
              "      <th>3</th>\n",
              "      <td>Cuyahoga</td>\n",
              "      <td>2021-08-01</td>\n",
              "      <td>MILK 2%, 1%, 1/2%, SKIM</td>\n",
              "      <td>SOY MILK 1/2 GAL</td>\n",
              "      <td>366.5</td>\n",
              "      <td>165.50</td>\n",
              "      <td>45.15</td>\n",
              "    </tr>\n",
              "    <tr>\n",
              "      <th>4</th>\n",
              "      <td>Cuyahoga</td>\n",
              "      <td>2021-08-01</td>\n",
              "      <td>WIC-ELIGIBLE MEDICAL FOODS (WEMF)</td>\n",
              "      <td>WIC-ELIGIBLE MEDICAL FOODS (WEMF)</td>\n",
              "      <td>13606.0</td>\n",
              "      <td>9504.00</td>\n",
              "      <td>69.85</td>\n",
              "    </tr>\n",
              "  </tbody>\n",
              "</table>\n",
              "</div>"
            ],
            "text/plain": [
              "  countyname   effectivedate                       foodcategory  \\\n",
              "0  021-08-01  JUICE - 64 OZ.           100%JUICE - 64 OZ. CONT.   \n",
              "1   Cuyahoga      2021-08-01                       MILK - WHOLE   \n",
              "2   Cuyahoga      2021-08-01            MILK 2%, 1%, 1/2%, SKIM   \n",
              "3   Cuyahoga      2021-08-01            MILK 2%, 1%, 1/2%, SKIM   \n",
              "4   Cuyahoga      2021-08-01  WIC-ELIGIBLE MEDICAL FOODS (WEMF)   \n",
              "\n",
              "                    food_subcategory  issuedqty  redeemedqty  redemption_rate  \n",
              "0                              14733     8137.0        55.22              NaN  \n",
              "1             WHOLE DRY MILK 25.6 OZ        3.0         1.00            33.33  \n",
              "2      LACTOSE FREE MILK LOWFAT/SKIM     2048.0       745.00            36.37  \n",
              "3                   SOY MILK 1/2 GAL      366.5       165.50            45.15  \n",
              "4  WIC-ELIGIBLE MEDICAL FOODS (WEMF)    13606.0      9504.00            69.85  "
            ]
          },
          "execution_count": 18,
          "metadata": {},
          "output_type": "execute_result"
        }
      ],
      "source": [
        "df.head()"
      ]
    },
    {
      "cell_type": "code",
      "execution_count": 19,
      "id": "1cc51926-accc-4068-a71b-33dff91340c3",
      "metadata": {
        "trusted": true
      },
      "outputs": [
        {
          "data": {
            "text/html": [
              "<div>\n",
              "<style scoped>\n",
              "    .dataframe tbody tr th:only-of-type {\n",
              "        vertical-align: middle;\n",
              "    }\n",
              "\n",
              "    .dataframe tbody tr th {\n",
              "        vertical-align: top;\n",
              "    }\n",
              "\n",
              "    .dataframe thead th {\n",
              "        text-align: right;\n",
              "    }\n",
              "</style>\n",
              "<table border=\"1\" class=\"dataframe\">\n",
              "  <thead>\n",
              "    <tr style=\"text-align: right;\">\n",
              "      <th></th>\n",
              "      <th>countyname</th>\n",
              "      <th>effectivedate</th>\n",
              "      <th>foodcategory</th>\n",
              "      <th>food_subcategory</th>\n",
              "      <th>issuedqty</th>\n",
              "      <th>redeemedqty</th>\n",
              "      <th>redemption_rate</th>\n",
              "    </tr>\n",
              "  </thead>\n",
              "  <tbody>\n",
              "    <tr>\n",
              "      <th>8245</th>\n",
              "      <td>Wyandot</td>\n",
              "      <td>2021-10-01</td>\n",
              "      <td>MILK - WHOLE</td>\n",
              "      <td>LACTOSE FREE WHOLE MILK</td>\n",
              "      <td>3.0</td>\n",
              "      <td>2.0</td>\n",
              "      <td>66.66</td>\n",
              "    </tr>\n",
              "    <tr>\n",
              "      <th>8246</th>\n",
              "      <td>Wyandot</td>\n",
              "      <td>2021-10-01</td>\n",
              "      <td>MILK - WHOLE</td>\n",
              "      <td>MILK - WHOLE ALL TYPES</td>\n",
              "      <td>54.0</td>\n",
              "      <td>40.0</td>\n",
              "      <td>74.07</td>\n",
              "    </tr>\n",
              "    <tr>\n",
              "      <th>8247</th>\n",
              "      <td>Wyandot</td>\n",
              "      <td>2021-10-01</td>\n",
              "      <td>MILK 2%, 1%, 1/2%, SKIM</td>\n",
              "      <td>LACTOSE FREE MILK LOWFAT/SKIM</td>\n",
              "      <td>4.0</td>\n",
              "      <td>0.0</td>\n",
              "      <td>0.00</td>\n",
              "    </tr>\n",
              "    <tr>\n",
              "      <th>8248</th>\n",
              "      <td>Wyandot</td>\n",
              "      <td>2021-10-01</td>\n",
              "      <td>MILK 2%, 1%, 1/2%, SKIM</td>\n",
              "      <td>MILK 2%</td>\n",
              "      <td>45.0</td>\n",
              "      <td>32.5</td>\n",
              "      <td>72.22</td>\n",
              "    </tr>\n",
              "    <tr>\n",
              "      <th>8249</th>\n",
              "      <td>Wyandot</td>\n",
              "      <td>2021-10-01</td>\n",
              "      <td>YOGURT</td>\n",
              "      <td>YOGURT - WHOLE MILK</td>\n",
              "      <td>608.0</td>\n",
              "      <td>192.0</td>\n",
              "      <td>31.57</td>\n",
              "    </tr>\n",
              "  </tbody>\n",
              "</table>\n",
              "</div>"
            ],
            "text/plain": [
              "     countyname effectivedate             foodcategory  \\\n",
              "8245    Wyandot    2021-10-01             MILK - WHOLE   \n",
              "8246    Wyandot    2021-10-01             MILK - WHOLE   \n",
              "8247    Wyandot    2021-10-01  MILK 2%, 1%, 1/2%, SKIM   \n",
              "8248    Wyandot    2021-10-01  MILK 2%, 1%, 1/2%, SKIM   \n",
              "8249    Wyandot    2021-10-01                   YOGURT   \n",
              "\n",
              "                   food_subcategory  issuedqty  redeemedqty  redemption_rate  \n",
              "8245        LACTOSE FREE WHOLE MILK        3.0          2.0            66.66  \n",
              "8246         MILK - WHOLE ALL TYPES       54.0         40.0            74.07  \n",
              "8247  LACTOSE FREE MILK LOWFAT/SKIM        4.0          0.0             0.00  \n",
              "8248                        MILK 2%       45.0         32.5            72.22  \n",
              "8249            YOGURT - WHOLE MILK      608.0        192.0            31.57  "
            ]
          },
          "execution_count": 19,
          "metadata": {},
          "output_type": "execute_result"
        }
      ],
      "source": [
        "df.tail()"
      ]
    },
    {
      "cell_type": "code",
      "execution_count": 20,
      "id": "6b011116-541b-4f1d-91c0-dfc820273e19",
      "metadata": {
        "trusted": true
      },
      "outputs": [
        {
          "data": {
            "text/plain": [
              "0                100%JUICE - 64 OZ. CONT.\n",
              "1                            MILK - WHOLE\n",
              "2                 MILK 2%, 1%, 1/2%, SKIM\n",
              "3                 MILK 2%, 1%, 1/2%, SKIM\n",
              "4       WIC-ELIGIBLE MEDICAL FOODS (WEMF)\n",
              "                      ...                \n",
              "8245                         MILK - WHOLE\n",
              "8246                         MILK - WHOLE\n",
              "8247              MILK 2%, 1%, 1/2%, SKIM\n",
              "8248              MILK 2%, 1%, 1/2%, SKIM\n",
              "8249                               YOGURT\n",
              "Name: foodcategory, Length: 8250, dtype: object"
            ]
          },
          "execution_count": 20,
          "metadata": {},
          "output_type": "execute_result"
        }
      ],
      "source": [
        "df['foodcategory']"
      ]
    },
    {
      "cell_type": "code",
      "execution_count": 22,
      "id": "10c8cce2-49b5-44f8-a395-86495e68a285",
      "metadata": {
        "trusted": true
      },
      "outputs": [
        {
          "data": {
            "text/plain": [
              "<bound method IndexOpsMixin.value_counts of 0                100%JUICE - 64 OZ. CONT.\n",
              "1                            MILK - WHOLE\n",
              "2                 MILK 2%, 1%, 1/2%, SKIM\n",
              "3                 MILK 2%, 1%, 1/2%, SKIM\n",
              "4       WIC-ELIGIBLE MEDICAL FOODS (WEMF)\n",
              "                      ...                \n",
              "8245                         MILK - WHOLE\n",
              "8246                         MILK - WHOLE\n",
              "8247              MILK 2%, 1%, 1/2%, SKIM\n",
              "8248              MILK 2%, 1%, 1/2%, SKIM\n",
              "8249                               YOGURT\n",
              "Name: foodcategory, Length: 8250, dtype: object>"
            ]
          },
          "execution_count": 22,
          "metadata": {},
          "output_type": "execute_result"
        }
      ],
      "source": [
        "df['foodcategory'].value_counts"
      ]
    },
    {
      "cell_type": "code",
      "execution_count": 23,
      "id": "306a1611-6703-4317-a712-4b8077d2d47d",
      "metadata": {
        "trusted": true
      },
      "outputs": [
        {
          "data": {
            "text/html": [
              "<div>\n",
              "<style scoped>\n",
              "    .dataframe tbody tr th:only-of-type {\n",
              "        vertical-align: middle;\n",
              "    }\n",
              "\n",
              "    .dataframe tbody tr th {\n",
              "        vertical-align: top;\n",
              "    }\n",
              "\n",
              "    .dataframe thead th {\n",
              "        text-align: right;\n",
              "    }\n",
              "</style>\n",
              "<table border=\"1\" class=\"dataframe\">\n",
              "  <thead>\n",
              "    <tr style=\"text-align: right;\">\n",
              "      <th></th>\n",
              "      <th>countyname</th>\n",
              "      <th>effectivedate</th>\n",
              "      <th>foodcategory</th>\n",
              "      <th>food_subcategory</th>\n",
              "      <th>issuedqty</th>\n",
              "      <th>redeemedqty</th>\n",
              "      <th>redemption_rate</th>\n",
              "    </tr>\n",
              "  </thead>\n",
              "  <tbody>\n",
              "    <tr>\n",
              "      <th>100</th>\n",
              "      <td>Belmont</td>\n",
              "      <td>2021-08-01</td>\n",
              "      <td>LEGUMES</td>\n",
              "      <td>PEANUT BUTTER 16-18 OZ.</td>\n",
              "      <td>462.0</td>\n",
              "      <td>201.0</td>\n",
              "      <td>43.50</td>\n",
              "    </tr>\n",
              "    <tr>\n",
              "      <th>101</th>\n",
              "      <td>Belmont</td>\n",
              "      <td>2021-08-01</td>\n",
              "      <td>MILK 2%, 1%, 1/2%, SKIM</td>\n",
              "      <td>LACTOSE FREE MILK-2%</td>\n",
              "      <td>19.0</td>\n",
              "      <td>10.5</td>\n",
              "      <td>55.26</td>\n",
              "    </tr>\n",
              "    <tr>\n",
              "      <th>102</th>\n",
              "      <td>Belmont</td>\n",
              "      <td>2021-08-01</td>\n",
              "      <td>MILK 2%, 1%, 1/2%, SKIM</td>\n",
              "      <td>MILK 2%, 1%, 1/2%, FAT FREE</td>\n",
              "      <td>1291.5</td>\n",
              "      <td>685.0</td>\n",
              "      <td>53.03</td>\n",
              "    </tr>\n",
              "    <tr>\n",
              "      <th>103</th>\n",
              "      <td>Belmont</td>\n",
              "      <td>2021-08-01</td>\n",
              "      <td>WIC-ELIGIBLE MEDICAL FOODS (WEMF)</td>\n",
              "      <td>WIC-ELIGIBLE MEDICAL FOODS (WEMF)</td>\n",
              "      <td>756.0</td>\n",
              "      <td>348.0</td>\n",
              "      <td>46.03</td>\n",
              "    </tr>\n",
              "  </tbody>\n",
              "</table>\n",
              "</div>"
            ],
            "text/plain": [
              "    countyname effectivedate                       foodcategory  \\\n",
              "100    Belmont    2021-08-01                            LEGUMES   \n",
              "101    Belmont    2021-08-01            MILK 2%, 1%, 1/2%, SKIM   \n",
              "102    Belmont    2021-08-01            MILK 2%, 1%, 1/2%, SKIM   \n",
              "103    Belmont    2021-08-01  WIC-ELIGIBLE MEDICAL FOODS (WEMF)   \n",
              "\n",
              "                      food_subcategory  issuedqty  redeemedqty  \\\n",
              "100            PEANUT BUTTER 16-18 OZ.      462.0        201.0   \n",
              "101               LACTOSE FREE MILK-2%       19.0         10.5   \n",
              "102        MILK 2%, 1%, 1/2%, FAT FREE     1291.5        685.0   \n",
              "103  WIC-ELIGIBLE MEDICAL FOODS (WEMF)      756.0        348.0   \n",
              "\n",
              "     redemption_rate  \n",
              "100            43.50  \n",
              "101            55.26  \n",
              "102            53.03  \n",
              "103            46.03  "
            ]
          },
          "execution_count": 23,
          "metadata": {},
          "output_type": "execute_result"
        }
      ],
      "source": [
        "df[100:104]"
      ]
    },
    {
      "cell_type": "code",
      "execution_count": null,
      "id": "d8d3d8e1-2ac0-4a31-a080-82eb591fd02e",
      "metadata": {},
      "outputs": [],
      "source": []
    }
  ],
  "metadata": {
    "kernelspec": {
      "display_name": "Python 3.10.6 ('venv': venv)",
      "language": "python",
      "name": "python3"
    },
    "language_info": {
      "codemirror_mode": {
        "name": "python",
        "version": 3
      },
      "file_extension": ".py",
      "mimetype": "text/x-python",
      "name": "python",
      "nbconvert_exporter": "python",
      "pygments_lexer": "ipython3",
      "version": "3.10.6"
    },
    "vscode": {
      "interpreter": {
        "hash": "7e3a1eba40fd19d1b28007701a21e66cdef8374c5aee4c5fb9be0cb833d93776"
      }
    }
  },
  "nbformat": 4,
  "nbformat_minor": 5
}
